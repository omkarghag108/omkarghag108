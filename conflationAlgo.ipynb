{
  "cells": [
    {
      "cell_type": "markdown",
      "metadata": {
        "id": "view-in-github",
        "colab_type": "text"
      },
      "source": [
        "<a href=\"https://colab.research.google.com/github/omkarghag108/omkarghag108/blob/main/conflationAlgo.ipynb\" target=\"_parent\"><img src=\"https://colab.research.google.com/assets/colab-badge.svg\" alt=\"Open In Colab\"/></a>"
      ]
    },
    {
      "cell_type": "code",
      "execution_count": null,
      "id": "0c9cf742",
      "metadata": {
        "id": "0c9cf742"
      },
      "outputs": [],
      "source": []
    },
    {
      "cell_type": "code",
      "execution_count": null,
      "id": "def95c05",
      "metadata": {
        "id": "def95c05"
      },
      "outputs": [],
      "source": []
    },
    {
      "cell_type": "code",
      "execution_count": null,
      "id": "7bf09ff2",
      "metadata": {
        "id": "7bf09ff2"
      },
      "outputs": [],
      "source": [
        "s = \"Science can be called the 8th wonder of the world because of its contribution to our day to day life. Science has made our lives easier and has always provided a comfort zone. Science is everywhere and we havediscussed here some surprising facts about science. There is science everywhere, the way you see, respond, talk, listen all contains science. It is a science that sometimes looks like a miracle. Science plays a veryimportant role in our lives. There is science everywhere but we learn about them when we visit our school.There is nothing which science cannot do in our life. If you are alone, you can watch a movie. If you are hungry, you can order food within a few minutes.All these things show how important science is and you cannot keep science apart from your daily life. Really it is like a miracle and I cannot imagine life without science.\""
      ]
    },
    {
      "cell_type": "code",
      "execution_count": null,
      "id": "84748b0f",
      "metadata": {
        "id": "84748b0f"
      },
      "outputs": [],
      "source": [
        "\n",
        "from nltk.tokenize import word_tokenize\n",
        "import re"
      ]
    },
    {
      "cell_type": "code",
      "execution_count": null,
      "id": "4bb955c2",
      "metadata": {
        "id": "4bb955c2"
      },
      "outputs": [],
      "source": [
        "swp = re.sub(r'[^\\w\\s]', '', s)"
      ]
    },
    {
      "cell_type": "code",
      "execution_count": null,
      "id": "e4ac7767",
      "metadata": {
        "id": "e4ac7767",
        "outputId": "3ae95bc3-6ea8-4d43-c0b1-785ea5d7ccce"
      },
      "outputs": [
        {
          "name": "stdout",
          "output_type": "stream",
          "text": [
            "Science can be called the 8th wonder of the world because of its contribution to our day to day life Science has made our lives easier and has always provided a comfort zone Science is everywhere and we havediscussed here some surprising facts about science There is science everywhere the way you see respond talk listen all contains science It is a science that sometimes looks like a miracle Science plays a veryimportant role in our lives There is science everywhere but we learn about them when we visit our schoolThere is nothing which science cannot do in our life If you are alone you can watch a movie If you are hungry you can order food within a few minutesAll these things show how important science is and you cannot keep science apart from your daily life Really it is like a miracle and I cannot imagine life without science\n"
          ]
        }
      ],
      "source": [
        "print(swp)"
      ]
    },
    {
      "cell_type": "code",
      "execution_count": null,
      "id": "2d051f0e",
      "metadata": {
        "id": "2d051f0e",
        "outputId": "b253b7cb-ef5c-4c74-e24f-4063860159e8"
      },
      "outputs": [
        {
          "name": "stderr",
          "output_type": "stream",
          "text": [
            "[nltk_data] Downloading package punkt to\n",
            "[nltk_data]     C:\\Users\\User\\AppData\\Roaming\\nltk_data...\n",
            "[nltk_data]   Package punkt is already up-to-date!\n"
          ]
        }
      ],
      "source": [
        "import nltk\n",
        "nltk.download('punkt')\n",
        "tokenize = word_tokenize(swp)"
      ]
    },
    {
      "cell_type": "code",
      "execution_count": null,
      "id": "728772c4",
      "metadata": {
        "id": "728772c4",
        "outputId": "afc40116-5013-4276-9921-012ff8d23bb3"
      },
      "outputs": [
        {
          "data": {
            "text/plain": [
              "154"
            ]
          },
          "execution_count": 7,
          "metadata": {},
          "output_type": "execute_result"
        }
      ],
      "source": [
        "len(tokenize)"
      ]
    },
    {
      "cell_type": "code",
      "execution_count": null,
      "id": "b79bf89d",
      "metadata": {
        "id": "b79bf89d",
        "outputId": "70ecdc3e-4743-4f83-9ed2-f5714c5e1962"
      },
      "outputs": [
        {
          "name": "stderr",
          "output_type": "stream",
          "text": [
            "[nltk_data] Downloading package stopwords to\n",
            "[nltk_data]     C:\\Users\\User\\AppData\\Roaming\\nltk_data...\n",
            "[nltk_data]   Package stopwords is already up-to-date!\n"
          ]
        }
      ],
      "source": [
        "from nltk.corpus import stopwords\n",
        "nltk.download('stopwords')\n",
        "nltk_stop_words = stopwords.words('english')\n",
        "sentence_without_stopwords = [i for i in tokenize if not i.lower() in nltk_stop_words]"
      ]
    },
    {
      "cell_type": "code",
      "execution_count": null,
      "id": "33f5bd5a",
      "metadata": {
        "id": "33f5bd5a",
        "outputId": "ed531379-31a8-4c07-9e9a-30f1f0c97baf"
      },
      "outputs": [
        {
          "data": {
            "text/plain": [
              "74"
            ]
          },
          "execution_count": 9,
          "metadata": {},
          "output_type": "execute_result"
        }
      ],
      "source": [
        "len(sentence_without_stopwords)"
      ]
    },
    {
      "cell_type": "code",
      "execution_count": null,
      "id": "e378f326",
      "metadata": {
        "id": "e378f326"
      },
      "outputs": [],
      "source": [
        "\n",
        "from nltk.stem.porter import PorterStemmer\n",
        "stemmer = PorterStemmer()\n",
        "sentence_after_stemming= []\n",
        "for word in sentence_without_stopwords:\n",
        "    sentence_after_stemming.append(stemmer.stem(word))"
      ]
    },
    {
      "cell_type": "code",
      "execution_count": null,
      "id": "976070ba",
      "metadata": {
        "id": "976070ba",
        "outputId": "63e5bbf4-71fa-42d5-d1f7-e59d70215598"
      },
      "outputs": [
        {
          "data": {
            "text/plain": [
              "['scienc',\n",
              " 'call',\n",
              " '8th',\n",
              " 'wonder',\n",
              " 'world',\n",
              " 'contribut',\n",
              " 'day',\n",
              " 'day',\n",
              " 'life',\n",
              " 'scienc',\n",
              " 'made',\n",
              " 'live',\n",
              " 'easier',\n",
              " 'alway',\n",
              " 'provid',\n",
              " 'comfort',\n",
              " 'zone',\n",
              " 'scienc',\n",
              " 'everywher',\n",
              " 'havediscuss',\n",
              " 'surpris',\n",
              " 'fact',\n",
              " 'scienc',\n",
              " 'scienc',\n",
              " 'everywher',\n",
              " 'way',\n",
              " 'see',\n",
              " 'respond',\n",
              " 'talk',\n",
              " 'listen',\n",
              " 'contain',\n",
              " 'scienc',\n",
              " 'scienc',\n",
              " 'sometim',\n",
              " 'look',\n",
              " 'like',\n",
              " 'miracl',\n",
              " 'scienc',\n",
              " 'play',\n",
              " 'veryimport',\n",
              " 'role',\n",
              " 'live',\n",
              " 'scienc',\n",
              " 'everywher',\n",
              " 'learn',\n",
              " 'visit',\n",
              " 'schoolther',\n",
              " 'noth',\n",
              " 'scienc',\n",
              " 'life',\n",
              " 'alon',\n",
              " 'watch',\n",
              " 'movi',\n",
              " 'hungri',\n",
              " 'order',\n",
              " 'food',\n",
              " 'within',\n",
              " 'minutesal',\n",
              " 'thing',\n",
              " 'show',\n",
              " 'import',\n",
              " 'scienc',\n",
              " 'keep',\n",
              " 'scienc',\n",
              " 'apart',\n",
              " 'daili',\n",
              " 'life',\n",
              " 'realli',\n",
              " 'like',\n",
              " 'miracl',\n",
              " 'imagin',\n",
              " 'life',\n",
              " 'without',\n",
              " 'scienc']"
            ]
          },
          "execution_count": 11,
          "metadata": {},
          "output_type": "execute_result"
        }
      ],
      "source": [
        "sentence_after_stemming"
      ]
    },
    {
      "cell_type": "code",
      "execution_count": null,
      "id": "16f47daa",
      "metadata": {
        "id": "16f47daa",
        "outputId": "664f8782-daca-4976-f126-ed021676d2a0"
      },
      "outputs": [
        {
          "name": "stdout",
          "output_type": "stream",
          "text": [
            "['science', 'call', 'th', 'wonder', 'world', 'contribute', 'day', 'day', 'life', 'science', 'made', 'live', 'easier', 'away', 'proved', 'comfort', 'zone', 'science', 'everywhere', 'havediscuss', 'surprise', 'fact', 'science', 'science', 'everywhere', 'way', 'see', 'respond', 'talk', 'listen', 'contain', 'science', 'science', 'sometime', 'look', 'like', 'miracle', 'science', 'play', 'veryimport', 'role', 'live', 'science', 'everywhere', 'learn', 'visit', 'schoolther', 'noth', 'science', 'life', 'along', 'watch', 'move', 'hungry', 'order', 'food', 'within', 'minutes', 'thing', 'show', 'import', 'science', 'keep', 'science', 'apart', 'daily', 'life', 'really', 'like', 'miracle', 'imagine', 'life', 'without', 'science']\n"
          ]
        }
      ],
      "source": [
        "from textblob import TextBlob\n",
        "final_words_sentence=[]\n",
        "for i in range(len(sentence_after_stemming)):\n",
        "    final_words_sentence.append(0)\n",
        "    present_word=sentence_after_stemming[i]\n",
        "    b=TextBlob(sentence_after_stemming[i])\n",
        "    if str(b.correct()).lower() in nltk_stop_words:\n",
        "        final_words_sentence[i]=present_word\n",
        "    else:\n",
        "        final_words_sentence[i]=str(b.correct())\n",
        "print(final_words_sentence)"
      ]
    },
    {
      "cell_type": "code",
      "execution_count": null,
      "id": "67964090",
      "metadata": {
        "id": "67964090",
        "outputId": "a7eeaf37-8616-4992-e70c-1e7ae63c63e1"
      },
      "outputs": [
        {
          "name": "stdout",
          "output_type": "stream",
          "text": [
            "Collecting textblob\n",
            "  Downloading textblob-0.17.1-py2.py3-none-any.whl (636 kB)\n",
            "Requirement already satisfied: nltk>=3.1 in c:\\users\\user\\anaconda3\\lib\\site-packages (from textblob) (3.7)\n",
            "Requirement already satisfied: click in c:\\users\\user\\anaconda3\\lib\\site-packages (from nltk>=3.1->textblob) (8.0.4)\n",
            "Requirement already satisfied: regex>=2021.8.3 in c:\\users\\user\\anaconda3\\lib\\site-packages (from nltk>=3.1->textblob) (2022.3.15)\n",
            "Requirement already satisfied: joblib in c:\\users\\user\\anaconda3\\lib\\site-packages (from nltk>=3.1->textblob) (1.1.0)\n",
            "Requirement already satisfied: tqdm in c:\\users\\user\\anaconda3\\lib\\site-packages (from nltk>=3.1->textblob) (4.64.0)\n",
            "Requirement already satisfied: colorama in c:\\users\\user\\anaconda3\\lib\\site-packages (from click->nltk>=3.1->textblob) (0.4.4)\n",
            "Installing collected packages: textblob\n",
            "Successfully installed textblob-0.17.1\n",
            "Note: you may need to restart the kernel to use updated packages.\n"
          ]
        }
      ],
      "source": [
        "pip install textblob"
      ]
    },
    {
      "cell_type": "code",
      "execution_count": null,
      "id": "ab414266",
      "metadata": {
        "id": "ab414266",
        "outputId": "c5d300b9-8d29-4f88-e972-5667164f2500"
      },
      "outputs": [
        {
          "name": "stdout",
          "output_type": "stream",
          "text": [
            "['science', 'call', 'th', 'wonder', 'world', 'contribute', 'day', 'day', 'life', 'science', 'made', 'live', 'easier', 'away', 'proved', 'comfort', 'zone', 'science', 'everywhere', 'havediscuss', 'surprise', 'fact', 'science', 'science', 'everywhere', 'way', 'see', 'respond', 'talk', 'listen', 'contain', 'science', 'science', 'sometime', 'look', 'like', 'miracle', 'science', 'play', 'veryimport', 'role', 'live', 'science', 'everywhere', 'learn', 'visit', 'schoolther', 'noth', 'science', 'life', 'along', 'watch', 'move', 'hungry', 'order', 'food', 'within', 'minutes', 'thing', 'show', 'import', 'science', 'keep', 'science', 'apart', 'daily', 'life', 'really', 'like', 'miracle', 'imagine', 'life', 'without', 'science']\n"
          ]
        }
      ],
      "source": [
        "from textblob import TextBlob\n",
        "final_words_sentence=[]\n",
        "for i in range(len(sentence_after_stemming)):\n",
        "    final_words_sentence.append(0)\n",
        "    present_word=sentence_after_stemming[i]\n",
        "    b=TextBlob(sentence_after_stemming[i])\n",
        "    if str(b.correct()).lower() in nltk_stop_words:\n",
        "        final_words_sentence[i]=present_word\n",
        "    else:\n",
        "        final_words_sentence[i]=str(b.correct())\n",
        "print(final_words_sentence)"
      ]
    },
    {
      "cell_type": "code",
      "execution_count": null,
      "id": "e1caefab",
      "metadata": {
        "id": "e1caefab"
      },
      "outputs": [],
      "source": [
        "\n",
        "from collections import Counter\n",
        "sentence_count = Counter(final_words_sentence)"
      ]
    },
    {
      "cell_type": "code",
      "execution_count": null,
      "id": "7992265f",
      "metadata": {
        "id": "7992265f",
        "outputId": "d9c6dc53-1e78-4022-d720-4478dc16be3e"
      },
      "outputs": [
        {
          "data": {
            "text/plain": [
              "Counter({'science': 13,\n",
              "         'call': 1,\n",
              "         'th': 1,\n",
              "         'wonder': 1,\n",
              "         'world': 1,\n",
              "         'contribute': 1,\n",
              "         'day': 2,\n",
              "         'life': 4,\n",
              "         'made': 1,\n",
              "         'live': 2,\n",
              "         'easier': 1,\n",
              "         'away': 1,\n",
              "         'proved': 1,\n",
              "         'comfort': 1,\n",
              "         'zone': 1,\n",
              "         'everywhere': 3,\n",
              "         'havediscuss': 1,\n",
              "         'surprise': 1,\n",
              "         'fact': 1,\n",
              "         'way': 1,\n",
              "         'see': 1,\n",
              "         'respond': 1,\n",
              "         'talk': 1,\n",
              "         'listen': 1,\n",
              "         'contain': 1,\n",
              "         'sometime': 1,\n",
              "         'look': 1,\n",
              "         'like': 2,\n",
              "         'miracle': 2,\n",
              "         'play': 1,\n",
              "         'veryimport': 1,\n",
              "         'role': 1,\n",
              "         'learn': 1,\n",
              "         'visit': 1,\n",
              "         'schoolther': 1,\n",
              "         'noth': 1,\n",
              "         'along': 1,\n",
              "         'watch': 1,\n",
              "         'move': 1,\n",
              "         'hungry': 1,\n",
              "         'order': 1,\n",
              "         'food': 1,\n",
              "         'within': 1,\n",
              "         'minutes': 1,\n",
              "         'thing': 1,\n",
              "         'show': 1,\n",
              "         'import': 1,\n",
              "         'keep': 1,\n",
              "         'apart': 1,\n",
              "         'daily': 1,\n",
              "         'really': 1,\n",
              "         'imagine': 1,\n",
              "         'without': 1})"
            ]
          },
          "execution_count": 15,
          "metadata": {},
          "output_type": "execute_result"
        }
      ],
      "source": [
        "sentence_count"
      ]
    },
    {
      "cell_type": "code",
      "execution_count": null,
      "id": "48cae98c",
      "metadata": {
        "id": "48cae98c"
      },
      "outputs": [],
      "source": []
    }
  ],
  "metadata": {
    "kernelspec": {
      "display_name": "Python 3 (ipykernel)",
      "language": "python",
      "name": "python3"
    },
    "language_info": {
      "codemirror_mode": {
        "name": "ipython",
        "version": 3
      },
      "file_extension": ".py",
      "mimetype": "text/x-python",
      "name": "python",
      "nbconvert_exporter": "python",
      "pygments_lexer": "ipython3",
      "version": "3.9.12"
    },
    "colab": {
      "provenance": [],
      "include_colab_link": true
    }
  },
  "nbformat": 4,
  "nbformat_minor": 5
}